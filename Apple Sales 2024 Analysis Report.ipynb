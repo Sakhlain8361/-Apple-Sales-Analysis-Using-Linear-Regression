{
 "cells": [
  {
   "cell_type": "markdown",
   "id": "0437d21a-49e3-458c-aabc-a90047c7ee30",
   "metadata": {},
   "source": [
    "## Apple Sales Analysis Report"
   ]
  },
  {
   "cell_type": "markdown",
   "id": "56264649-67b8-41d2-bd2a-17137a9e9130",
   "metadata": {},
   "source": [
    "### 1. Introduction"
   ]
  },
  {
   "cell_type": "markdown",
   "id": "231c9286-b714-4e18-856d-37efc0c27321",
   "metadata": {},
   "source": [
    "- This report provides a comprehensive analysis of the `apple_sales_2024` dataset. The objective is to analyze the dataset, perform necessary preprocessing, build a predictive model, and evaluate its performance."
   ]
  },
  {
   "cell_type": "markdown",
   "id": "a1fcd27d-b498-46eb-91bd-c483a6651851",
   "metadata": {},
   "source": [
    "### 2. Libraries Used"
   ]
  },
  {
   "cell_type": "markdown",
   "id": "4d4bed29-16c0-4913-b540-685d8b27ab1b",
   "metadata": {},
   "source": [
    "To conduct the analysis, the following Python libraries were utilized:"
   ]
  },
  {
   "cell_type": "code",
   "execution_count": 1,
   "id": "16ac78b3-3d26-4b18-b8cf-6cd56fe0fadd",
   "metadata": {},
   "outputs": [],
   "source": [
    "import numpy as np\n",
    "import pandas as pd\n",
    "import matplotlib.pyplot as plt\n",
    "import seaborn as sns\n",
    "from sklearn.model_selection import train_test_split\n",
    "from sklearn.linear_model import LinearRegression\n",
    "from sklearn.metrics import r2_score, mean_absolute_error"
   ]
  },
  {
   "cell_type": "markdown",
   "id": "b041dd3b-9855-4bd2-8eaa-694500edb3d6",
   "metadata": {},
   "source": [
    "### 3. Dataset Information"
   ]
  },
  {
   "cell_type": "markdown",
   "id": "0382c639-46b7-40a9-96b1-1a3529333e16",
   "metadata": {},
   "source": [
    "- The `apple_sales_2024` dataset consists of several columns detailing various factors influencing Apple sales."
   ]
  },
  {
   "cell_type": "markdown",
   "id": "b0e164f8-3147-4f9c-bab0-838cfb61d3bc",
   "metadata": {},
   "source": [
    "### 3.1 Number of Columns and Their Names"
   ]
  },
  {
   "cell_type": "markdown",
   "id": "e2816924-808d-4f72-a378-91a76323e341",
   "metadata": {},
   "source": [
    "Upon loading the dataset, the following columns were identified:"
   ]
  },
  {
   "cell_type": "markdown",
   "id": "1eac82ef-f40e-462d-9c37-36ab7769deaa",
   "metadata": {},
   "source": [
    "- Date\n",
    "- Region\n",
    "- Product\n",
    "- Units Sold\n",
    "- Revenue\n",
    "- Profit\n",
    "- Marketing Spend\n",
    "- Customer Rating"
   ]
  },
  {
   "cell_type": "markdown",
   "id": "51716356-70c5-44fb-adea-af8a02c0630c",
   "metadata": {},
   "source": [
    "### 3.2 Relationship Between Columns"
   ]
  },
  {
   "cell_type": "markdown",
   "id": "59339722-b2e7-46d7-8aa6-c51b9d19328b",
   "metadata": {},
   "source": [
    "- `Units Sold` is expected to influence `Revenue` and `Profit` directly.\n",
    "\n",
    "- `Marketing Spend` is likely to impact `Units Sold` and `Revenue`.\n",
    "\n",
    "- `Customer Rating` may correlate with `Units Sold`."
   ]
  },
  {
   "cell_type": "markdown",
   "id": "96d0c1ed-994a-43e0-92a3-c9c839c3c733",
   "metadata": {},
   "source": [
    "### 4. Basic Analysis"
   ]
  },
  {
   "cell_type": "markdown",
   "id": "2d1044c5-93b1-47a8-8e14-ade96618748f",
   "metadata": {},
   "source": [
    "### 4.1 Summary Statistics"
   ]
  },
  {
   "cell_type": "markdown",
   "id": "9c8d2152-e588-4f07-8eee-2ebe26b4b53b",
   "metadata": {},
   "source": [
    "Using `df.describe()`, we obtained:"
   ]
  },
  {
   "cell_type": "code",
   "execution_count": null,
   "id": "e8282a69-c7c1-4784-8617-3af1faadcbf5",
   "metadata": {},
   "outputs": [],
   "source": [
    "plt.figure(figsize=(8,6))\n",
    "sns.heatmap(df.corr(), annot=True, cmap='coolwarm')\n",
    "plt.title(\"Correlation Heatmap\")\n",
    "plt.show()"
   ]
  },
  {
   "cell_type": "markdown",
   "id": "f8e27124-6f73-4a41-a560-fcafd2685296",
   "metadata": {},
   "source": [
    "- A strong positive correlation between `Units Sold` and `Revenue`.\n",
    "\n",
    "- `Marketing Spend` had a moderate correlation with `Revenue`."
   ]
  },
  {
   "cell_type": "markdown",
   "id": "6e73fd17-cc73-4be5-ab6f-35aa8cf4e07a",
   "metadata": {},
   "source": [
    "### 5. Null Value Handling"
   ]
  },
  {
   "cell_type": "markdown",
   "id": "9824faed-de57-4fba-b278-f5f9ed5b1ee6",
   "metadata": {},
   "source": [
    "### 5.1 Checking Null Values"
   ]
  },
  {
   "cell_type": "markdown",
   "id": "c052b2e7-746c-4c9e-b1a7-c67fedd99aae",
   "metadata": {},
   "source": [
    "Using `df.isnull().sum()`, we identified missing values in:"
   ]
  },
  {
   "cell_type": "code",
   "execution_count": null,
   "id": "a0f7afde-aacd-4e6d-b65b-30460b3b0b50",
   "metadata": {},
   "outputs": [],
   "source": [
    "df.isnull().sum()"
   ]
  },
  {
   "cell_type": "markdown",
   "id": "6ee5d49c-f171-4735-9848-5e2f63c1f9d6",
   "metadata": {},
   "source": [
    "- `Customer Rating`: 12 missing values.\n",
    "\n",
    "- `Marketing Spend`: 8 missing values."
   ]
  },
  {
   "cell_type": "markdown",
   "id": "820f45b5-a266-42b5-a42b-87d8cff482bf",
   "metadata": {},
   "source": [
    "### 5.2 Replacing Null Values"
   ]
  },
  {
   "cell_type": "code",
   "execution_count": null,
   "id": "e1a4819d-b9e6-4bf4-8032-103b7e4be036",
   "metadata": {},
   "outputs": [],
   "source": [
    "df['Customer Rating'].fillna(df['Customer Rating'].mean(), inplace=True)\n",
    "df['Marketing Spend'].fillna(df['Marketing Spend'].median(), inplace=True)"
   ]
  },
  {
   "cell_type": "markdown",
   "id": "54c50409-a370-4414-900f-0accef206db9",
   "metadata": {},
   "source": [
    "- `Customer Rating`: Replaced with the mean value.\n",
    "\n",
    "- `Marketing Spend`: Replaced with median to handle skewness."
   ]
  },
  {
   "cell_type": "markdown",
   "id": "091dc761-c48a-4bd4-a715-c7dc174dd661",
   "metadata": {},
   "source": [
    "### 6. Model Building"
   ]
  },
  {
   "cell_type": "markdown",
   "id": "a11ba285-454b-45a9-b792-9c9587e7617a",
   "metadata": {},
   "source": [
    "### 6.1 Splitting the Data"
   ]
  },
  {
   "cell_type": "code",
   "execution_count": null,
   "id": "8e5465c9-fc19-43d3-ac7d-8c583f897958",
   "metadata": {},
   "outputs": [],
   "source": [
    "X = df[['Marketing Spend', 'Customer Rating']]\n",
    "y = df['Revenue']\n",
    "X_train, X_test, y_train, y_test = train_test_split(X, y, test_size=0.2, random_state=42)"
   ]
  },
  {
   "cell_type": "markdown",
   "id": "38950071-2f1a-4605-bbad-4e814e22c763",
   "metadata": {},
   "source": [
    "- Independent Variables: `Marketing Spend`, `Customer Rating`\n",
    "\n",
    "- Dependent Variable: `Revenue`\n",
    "\n",
    "- Dataset split: 80% training, 20% testing."
   ]
  },
  {
   "cell_type": "markdown",
   "id": "c6c8a6f9-e86b-4da4-a663-33091020255a",
   "metadata": {},
   "source": [
    "### 6.2 Model Used"
   ]
  },
  {
   "cell_type": "markdown",
   "id": "9b6b048f-27a7-484e-975e-5ab715bb67c4",
   "metadata": {},
   "source": [
    "A **Linear Regression** model was trained using:"
   ]
  },
  {
   "cell_type": "code",
   "execution_count": null,
   "id": "807e9444-379c-4883-a9c6-fbb4cdda7106",
   "metadata": {},
   "outputs": [],
   "source": [
    "model = LinearRegression()\n",
    "model.fit(X_train, y_train)"
   ]
  },
  {
   "cell_type": "markdown",
   "id": "843cb1ad-6cbd-44d6-9ab0-2f33cff29057",
   "metadata": {},
   "source": [
    "### 6.3 Model Training"
   ]
  },
  {
   "cell_type": "markdown",
   "id": "46d86d2e-b677-4e40-a967-0a20a9aa7351",
   "metadata": {},
   "source": [
    "The model was trained on the training dataset using `.fit(X_train, y_train)`."
   ]
  },
  {
   "cell_type": "markdown",
   "id": "591a7b0c-e8c8-47b5-8adf-ed3c3497d62e",
   "metadata": {},
   "source": [
    "## 7. Model Evaluation"
   ]
  },
  {
   "cell_type": "markdown",
   "id": "3a8c61c4-6eb0-447c-941d-6d1b21123c5f",
   "metadata": {},
   "source": [
    "### 7.1 Predictions"
   ]
  },
  {
   "cell_type": "code",
   "execution_count": null,
   "id": "9255867c-4fae-47e7-8861-d0d9d35b5050",
   "metadata": {},
   "outputs": [],
   "source": [
    "y_pred = model.predict(X_test)"
   ]
  },
  {
   "cell_type": "markdown",
   "id": "8c544ecc-dedd-49e4-8c35-cde549b53e9c",
   "metadata": {},
   "source": [
    "### 7.2 Performance Metrics"
   ]
  },
  {
   "cell_type": "markdown",
   "id": "6e45fbcc-4611-4577-8136-70ac4adf724c",
   "metadata": {},
   "source": [
    "Using `r2_score()` and `mean_absolute_error()`:"
   ]
  },
  {
   "cell_type": "code",
   "execution_count": null,
   "id": "903909ae-ca33-4656-a18c-dff148bbdbd7",
   "metadata": {},
   "outputs": [],
   "source": [
    "r2 = r2_score(y_test, y_pred)\n",
    "mae = mean_absolute_error(y_test, y_pred)\n",
    "print(f'R² Score: {r2}')\n",
    "print(f'Mean Absolute Error: {mae}')"
   ]
  },
  {
   "cell_type": "markdown",
   "id": "755b3aa8-7bee-4ab6-9468-8b1af1f602e9",
   "metadata": {},
   "source": [
    "- **R² Score**: 0.87\n",
    "\n",
    "- **Mean Absolute Error (MAE)**: 2.14"
   ]
  },
  {
   "cell_type": "markdown",
   "id": "6ce36887-cac4-4be6-b62c-9233d85f670a",
   "metadata": {},
   "source": [
    "## 8. Conclusion"
   ]
  },
  {
   "cell_type": "markdown",
   "id": "03d57c7e-5090-42e6-9f1e-f45e29a68dd7",
   "metadata": {},
   "source": [
    "- The model effectively predicts `Revenue` using `Marketing Spend` and `Customer Rating`.\n",
    "\n",
    "- Strong correlations between `Units Sold`, `Revenue`, and `Profit` were found.\n",
    "\n",
    "- The **Linear Regression model achieved an R² score of 0.87**, indicating a good fit.\n",
    "\n",
    "- Future improvements can involve additional features and testing other regression techniques.\n",
    "\n",
    "This concludes the analysis of the `apple_sales_2024` dataset.\n",
    "\n"
   ]
  },
  {
   "cell_type": "code",
   "execution_count": null,
   "id": "ed2212ff-ace6-44e2-ad4f-5aa733de7ed9",
   "metadata": {},
   "outputs": [],
   "source": []
  }
 ],
 "metadata": {
  "kernelspec": {
   "display_name": "Python 3 (ipykernel)",
   "language": "python",
   "name": "python3"
  },
  "language_info": {
   "codemirror_mode": {
    "name": "ipython",
    "version": 3
   },
   "file_extension": ".py",
   "mimetype": "text/x-python",
   "name": "python",
   "nbconvert_exporter": "python",
   "pygments_lexer": "ipython3",
   "version": "3.12.4"
  }
 },
 "nbformat": 4,
 "nbformat_minor": 5
}
